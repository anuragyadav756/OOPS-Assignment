{
  "nbformat": 4,
  "nbformat_minor": 0,
  "metadata": {
    "colab": {
      "provenance": []
    },
    "kernelspec": {
      "name": "python3",
      "display_name": "Python 3"
    },
    "language_info": {
      "name": "python"
    }
  },
  "cells": [
    {
      "cell_type": "markdown",
      "source": [
        "#OOPS ASSIGNMENT"
      ],
      "metadata": {
        "id": "MMSLvSHR3efa"
      }
    },
    {
      "cell_type": "markdown",
      "source": [
        "##Theory Questions"
      ],
      "metadata": {
        "id": "NwYA3c-n3txd"
      }
    },
    {
      "cell_type": "markdown",
      "source": [
        "###1.What is Object-Oriented Programming (OOP) ?\n",
        "- Object-oriented programming `(OOP)` is a programming paradigm that structures software design around objects, rather than functions or logic. OOP is a popular approach for creating software applications, and it is based on several key principles like abstraction, encapsulation, inheritance, and polymorphism."
      ],
      "metadata": {
        "id": "dzjf0I0J3t-N"
      }
    },
    {
      "cell_type": "markdown",
      "source": [
        "###2. What is a class in OOP ?\n",
        "- In Object-Oriented Programming (OOP), a `class` is a blueprint or template for creating objects. It defines the structure and behavior of objects of a specific type, including their attributes (data) and methods (functions). Classes enable code reuse, modularity, and organization, making it easier to manage complex systems."
      ],
      "metadata": {
        "id": "-fnijvb_3uGB"
      }
    },
    {
      "cell_type": "markdown",
      "source": [
        "###3.What is an object in OOP ?\n",
        "- In Object-Oriented Programming (OOP), an `object` is a fundamental unit that combines data (attributes or fields) with the actions or behaviors that can be performed on that data (methods or functions). It's essentially an instance of a class, a blueprint that defines the structure and behavior of objects of that type."
      ],
      "metadata": {
        "id": "c2kNedmr43yF"
      }
    },
    {
      "cell_type": "markdown",
      "source": [
        "###4.What is the difference between abstraction and encapsulation ?\n",
        "- `Abstraction` focuses on simplifying complexity by hiding internal details and showing only essential functionalities, while `encapsulation` bundles data and methods together within a class and controls access to them.\n",
        "- Abstraction is about what an object does, whereas encapsulation is about how an object does it, and how its internal state is protected."
      ],
      "metadata": {
        "id": "xPOz8Mir433S"
      }
    },
    {
      "cell_type": "markdown",
      "source": [
        "###5.What are dunder methods in Python ?\n",
        "- `Dunder methods` in Python, also known as magic or special methods, are predefined methods with double underscores ( __ ) at the beginning and end of their names. They allow you to customize the behavior of your objects and make them interact seamlessly with Python's built-in operators and functionalities.\n",
        "- Examples of Dunder Methods :-\n",
        "    - _______init___\n",
        "    - _______add___\n",
        "    - _______str___\n",
        "    - _______len___\n",
        "    - _______eq___"
      ],
      "metadata": {
        "id": "hf2QEszi43-X"
      }
    },
    {
      "cell_type": "markdown",
      "source": [
        "###6.Explain the concept of inheritance in OOP.\n",
        "- `Inheritance` in object-oriented programming (OOP) is a mechanism where a new class (derived or subclass) inherits properties and behaviors (methods) from an existing class (base or superclass). This promotes code reuse, hierarchical relationships, and allows for creating new classes that build upon existing ones, adding or modifying functionality."
      ],
      "metadata": {
        "id": "lrjXO3uB43_2"
      }
    },
    {
      "cell_type": "markdown",
      "source": [
        "###7.What is polymorphism in OOP ?\n",
        "- In Object-Oriented Programming (OOP), `polymorphism`, meaning \"many forms,\" allows objects of different classes to be treated as objects of a common interface. This enables a single method call to produce different behaviors based on the actual type of the object being called."
      ],
      "metadata": {
        "id": "lZnvKcCD44H9"
      }
    },
    {
      "cell_type": "markdown",
      "source": [
        "###8. How is encapsulation achieved in Python ?\n",
        "- `Encapsulation` in Python is achieved through conventions and naming practices, rather than strict access modifiers like in some other languages. It primarily involves bundling data (attributes) and methods that operate on that data within a class. This is often done by marking attributes as \"private\" with a double underscore prefix ( __), which triggers a name mangling process that makes it more difficult for subclasses to accidentally override the private attributes and methods."
      ],
      "metadata": {
        "id": "cEy2QJM244Jh"
      }
    },
    {
      "cell_type": "markdown",
      "source": [
        "###9.  What is a constructor in Python ?\n",
        "- In Python, a `constructor` is a special method, typically named _______init___, that's automatically called when a new object of a class is created. It's used to initialize the attributes of that object with specific values."
      ],
      "metadata": {
        "id": "ohYgqvU444QY"
      }
    },
    {
      "cell_type": "markdown",
      "source": [
        "###10. What are class and static methods in Python ?\n",
        "- `Class Method` - A class method is a function defined within a class that is bound to the class itself, not to a specific instance (object) of the class. It's declared using the @classmethod decorator and its first argument is always cls, representing the class object itself. Class methods are useful for accessing or modifying class attributes, creating alternative constructors (factory methods), or performing actions related to the class as a whole.\n",
        "\n",
        "- `Static Method` - A static method is a method that belongs to a class itself, not to any specific instance (object) of that class. This means you can call it directly using the class name without creating an object. Static methods are often used for utility functions or operations that don't require access to specific object data."
      ],
      "metadata": {
        "id": "wSz--VqL44Vl"
      }
    },
    {
      "cell_type": "markdown",
      "source": [
        "###11. What is method overloading in Python ?\n",
        "- In Python, `method overloading` refers to the concept of creating multiple methods with the same name but different parameters. While Python doesn't directly support method overloading in the way some other languages do, it achieves the same effect through flexible argument handling techniques like default arguments, variable-length arguments (*args, **kwargs), and conditional logic within a single method."
      ],
      "metadata": {
        "id": "Xm5KkDN244b2"
      }
    },
    {
      "cell_type": "markdown",
      "source": [
        "###12. What is method overriding in OOP ?\n",
        "-  In OOP, `method overriding` allows a subclass to provide a specific implementation of a method that is already defined in its superclass. This means the subclass can redefine the method's behavior while maintaining the same method signature (name, parameters, and return type). Essentially, the subclass \"overrides\" the parent class's version of the method, allowing for specialized behavior in the subclass."
      ],
      "metadata": {
        "id": "xl_9B44n44g-"
      }
    },
    {
      "cell_type": "markdown",
      "source": [
        "###13. What is a property decorator in Python ?\n",
        "- In Python, a `property decorator` (@property) is a built-in decorator that lets you define getter methods for class attributes in a more readable and \"Pythonic\" way. It allows you to access methods like attributes, which is handy for encapsulating behavior without changing the interface."
      ],
      "metadata": {
        "id": "g-vX9GjAAnpX"
      }
    },
    {
      "cell_type": "markdown",
      "source": [
        "###14. Why is polymorphism important in OOP ?\n",
        "- Polymorphism is super important in Object-Oriented Programming (OOP) because it makes your code more flexible, reusable, and easier to maintain. At its core, polymorphism means \"many forms\" — and in OOP, it allows different classes to be treated as if they were the same type through a shared interface or superclass.\n",
        "\n",
        "- It is important for :-\n",
        "    - Code Flexibility and Extensibility\n",
        "    - Improved Maintainability\n",
        "    - Promotes Loose Coupling\n",
        "    - Supports Substitutability"
      ],
      "metadata": {
        "id": "qVpo2AzUAoP-"
      }
    },
    {
      "cell_type": "markdown",
      "source": [
        "###15. What is an abstract class in Python ?\n",
        "- An `abstract class` in Python is a class that cannot be instantiated directly — it's meant to be a blueprint for other classes. It can define abstract methods, which are methods that must be implemented by any subclass.\n",
        "\n",
        "- Think of it like a contract: any subclass must fulfill what the abstract class defines, but the abstract class itself is not meant to be used on its own."
      ],
      "metadata": {
        "id": "u7F7wywZAoR5"
      }
    },
    {
      "cell_type": "markdown",
      "source": [
        "###16. What are the advantages of OOP ?\n",
        "- Object-Oriented Programming (OOP) has a bunch of advantages that make it a powerful and widely used paradigm, especially for building complex, modular, and maintainable software.\n",
        "- `Adavantages of OOP` are as follows:-\n",
        "    - Modularity\n",
        "    - Reusability\n",
        "    - scalability and Maintainability\n",
        "    - Encapsulation\n",
        "    - Polymoriphism\n",
        "    - Abstraction\n",
        "    - Real World Modeling\n",
        "    - Dry Principle(Don't Repeat Yourself)"
      ],
      "metadata": {
        "id": "32S5-CPWAoWa"
      }
    },
    {
      "cell_type": "markdown",
      "source": [
        "###17. What is the difference between a class variable and an instance variable ?\n",
        "- The main differences between a `class variable` and an `instance variable` are as follows:-\n",
        "  - A Class variable is shared by all instances of the class but an Instance variable is unique to each instance.\n",
        "  - It is defined inside the class, but outside any method but an Instance variable is defined inside the class and within a method usually (_______init___)\n",
        "  - A Class variable is best used for constants, shared config, counters, etc. but an instance variable is best used for properties unique to each object.\n",
        "  - A Class variable is accessed via `ClassName.var` or `self.var` and an Instance variable is accessed only via `self.var`"
      ],
      "metadata": {
        "id": "iFCzibeOAoYn"
      }
    },
    {
      "cell_type": "markdown",
      "source": [
        "###18. What is multiple inheritance in Python ?\n",
        "- `Multiple Inheritance` is when a class inherits from more than one parent class. That means the child class gets the attributes and methods of all its parent classes.\n",
        "\n",
        "- Python supports this natively — unlike some other languages (like Java) that avoid it due to complexity."
      ],
      "metadata": {
        "id": "8-8RuTmFAodG"
      }
    },
    {
      "cell_type": "markdown",
      "source": [
        "###19. Explain the purpose of ‘_ str_’ and ‘ _repr_’  methods in Python.\n",
        "- The __str__ and __repr__ methods in Python are special methods used to define how an object is represented as a string — super useful when you're printing objects or debugging.\n",
        "\n",
        "- `(__str__)` → User-Friendly String\n",
        "  - Used by print(), str(), and string interpolation (f\"{obj}\")\n",
        "\n",
        "  - Goal: Provide a nice, readable description of the object for end-users\n",
        "\n",
        "- `(__repr__)` → Developer-Friendly String\n",
        "  - Used by repr() and also the Python shell (e.g., in a list of objects)\n",
        "\n",
        "  - Goal: Provide a clear, unambiguous representation (often valid Python code)\n",
        "\n",
        "  - Should ideally return a string that could be used to recreate the object\n"
      ],
      "metadata": {
        "id": "BM2qqDT_AofL"
      }
    },
    {
      "cell_type": "markdown",
      "source": [
        "###20. What is the significance of the ‘super()’ function in Python ?\n",
        "-  The `super()` function in Python is super useful. It’s used to call methods from a parent (or superclass) inside a child class — especially when working with inheritance.\n",
        "- It is important because:-\n",
        "  - Lets you reuse methods from a parent class without hardcoding the parent’s name\n",
        "\n",
        "  - Helps support multiple inheritance properly (works with MRO)\n",
        "\n",
        "  - Keeps code clean, maintainable, and DRY\n"
      ],
      "metadata": {
        "id": "CqMV4Uw4Aoj0"
      }
    },
    {
      "cell_type": "markdown",
      "source": [
        "###21. What is the significance of the __del__ method in Python ?\n",
        "- The `__del__` method in Python is known as the destructor — it's called when an object is about to be destroyed, i.e., when it’s garbage collected and its memory is about to be freed.\n",
        "\n",
        "- It is very significant in python because:-\n",
        "  - It's the opposite of __init__ (which initializes an object)\n",
        "\n",
        "  - It is used for cleanup tasks before an object is deleted (like closing files, releasing network resources, etc."
      ],
      "metadata": {
        "id": "wprri2UCKgGO"
      }
    },
    {
      "cell_type": "markdown",
      "source": [
        "###22. What is the difference between @staticmethod and @classmethod in Python ?\n",
        "- Both @staticmethod and @classmethod are decorators in Python used to define methods that are not regular instance methods, but they serve different purposes and behave differently.\n",
        "\n",
        "- `@staticmethod`\n",
        "  - Doesn't take self or cls as the first argument\n",
        "\n",
        "  - Doesn't know about the class or instance\n",
        "\n",
        "  - Behaves like a regular function, but belongs to the class's namespace\n",
        "\n",
        "  - Use it when the method doesn't need access to the class or instance\n",
        "- `@classmethod`\n",
        "  - Takes cls as the first argument (refers to the class)\n",
        "\n",
        "  - Has access to class-level data and can modify it\n",
        "\n",
        "  - Often used for alternative constructors\n",
        "\n",
        "  - Use it when you need to access or modify class-level state\n",
        "\n",
        "\n"
      ],
      "metadata": {
        "id": "-a0FUSxdKgWn"
      }
    },
    {
      "cell_type": "markdown",
      "source": [
        "###23. How does polymorphism work in Python with inheritance ?\n",
        "-  Polymorphism enables child classes to override methods of their parent class, and objects of different classes can respond to the same method in their own unique way.\n",
        "\n",
        "- Polymorphism works with inheritance : -\n",
        "  - Method Overriding: A child class can override a method from its parent class, so that the child class's version of the method is called when invoked on an instance of the child class.\n",
        "\n",
        "  - Dynamic Method Resolution: At runtime, Python resolves which method to call based on the actual object type (not the reference type), allowing the method to be different for different classes.\n",
        "\n"
      ],
      "metadata": {
        "id": "tm-Qu1CYKgf_"
      }
    },
    {
      "cell_type": "markdown",
      "source": [
        "###24. What is method chaining in Python OOP ?\n",
        "- `Method chaining` in Python (and in Object-Oriented Programming in general) is a technique where multiple methods are called on the same object in a single line of code. Each method returns the object itself (or a modified version of it), allowing you to \"chain\" subsequent method calls together."
      ],
      "metadata": {
        "id": "QJPsG3CLKgr9"
      }
    },
    {
      "cell_type": "markdown",
      "source": [
        "###25.  What is the purpose of the ______call__ method in Python ?\n",
        "- The `__call__` method in Python is a special method that allows an instance of a class to be called like a function. When you define __call__ in a class, you make instances of that class callable — meaning you can \"call\" an instance directly using parentheses, just as you would a regular function.\n",
        "\n",
        "- Purpose of __call__:\n",
        "  - The __call__ method makes an object behave like a function.\n",
        "\n",
        "  - It's commonly used when you want an object to act as if it were a function or when you need custom behavior when an object is invoked.\n",
        "\n"
      ],
      "metadata": {
        "id": "gK0VG6DBKg26"
      }
    },
    {
      "cell_type": "markdown",
      "source": [
        "##Practical Questions"
      ],
      "metadata": {
        "id": "VO5KmMOHQX-f"
      }
    },
    {
      "cell_type": "code",
      "source": [
        "#1.  Create a parent class Animal with a method speak() that prints a generic message. Create a child class Dog\n",
        "#that overrides the speak() method to print \"Bark!\".\n",
        "\n",
        "class Animal:\n",
        "    def speak(self):\n",
        "        print(\"Generic Animal Sound\")\n",
        "\n",
        "class Dog(Animal):\n",
        "    def speak(self):\n",
        "        print(\"Bark!\")\n",
        "\n",
        "dog = Dog()\n",
        "dog.speak()"
      ],
      "metadata": {
        "id": "_6Fn9_mUQfq9"
      },
      "execution_count": null,
      "outputs": []
    },
    {
      "cell_type": "code",
      "source": [
        "#2.  Write a program to create an abstract class Shape with a method area(). Derive classes Circle and Rectangle\n",
        "#from it and implement the area() method in both.\n",
        "\n",
        "from abc import ABC, abstractmethod\n",
        "\n",
        "class Shape(ABC):\n",
        "    @abstractmethod\n",
        "    def area(self):\n",
        "      pass\n",
        "\n",
        "\n",
        "class Circle(Shape):\n",
        "    def __init__(self, radius):\n",
        "        self.radius = radius\n",
        "\n",
        "    def area(self):\n",
        "      return 3.14 * self.radius * self.radius\n",
        "\n",
        "\n",
        "class Rectangle(Shape):\n",
        "    def __init__(self, length, width):\n",
        "        self.length = length\n",
        "        self.width = width\n",
        "\n",
        "    def area(self):\n",
        "      return self.length * self.width\n"
      ],
      "metadata": {
        "id": "kid364IyQfyn"
      },
      "execution_count": null,
      "outputs": []
    },
    {
      "cell_type": "code",
      "source": [
        "#3. Implement a multi-level inheritance scenario where a class Vehicle has an attribute type. Derive a class Car\n",
        "#and further derive a class ElectricCar that adds a battery attribute.\n",
        "\n",
        "class Vehicle:\n",
        "    def __init__(self, type):\n",
        "        self.type = type\n",
        "\n",
        "class Car(Vehicle):\n",
        "    def __init__(self, type, brand):\n",
        "        super().__init__(type)\n",
        "        self.brand = brand\n",
        "\n",
        "class ElectricCar(Car):\n",
        "    def __init__(self, type, brand, battery):\n",
        "        super().__init__(type, brand)\n",
        "        self.battery = battery\n"
      ],
      "metadata": {
        "id": "cRSGnpOYQf0o"
      },
      "execution_count": null,
      "outputs": []
    },
    {
      "cell_type": "code",
      "source": [
        "#4. Demonstrate polymorphism by creating a base class Bird with a method fly(). Create two derived classes\n",
        "#Sparrow and Penguin that override the fly() method.\n",
        "\n",
        "class Bird:\n",
        "    def fly(self):\n",
        "        print(\"Bird flies\")\n",
        "\n",
        "class Sparrow(Bird):\n",
        "    def fly(self):\n",
        "        print(\"Sparrow flies\")\n",
        "\n",
        "class Penguin(Bird):\n",
        "    def fly(self):\n",
        "        print(\"Penguin cannot fly\")"
      ],
      "metadata": {
        "id": "QXC6HYPXQf7b"
      },
      "execution_count": null,
      "outputs": []
    },
    {
      "cell_type": "code",
      "source": [
        "#5. Write a program to demonstrate encapsulation by creating a class BankAccount with private attributes\n",
        "#balance and methods to deposit, withdraw, and check balance.\n",
        "\n",
        "class BankAccount:\n",
        "    def __init__(self, initial_balance):\n",
        "        self.__balance = initial_balance\n",
        "\n",
        "    def deposit(self, amount):\n",
        "        self.__balance += amount\n",
        "\n",
        "    def withdraw(self, amount):\n",
        "        if amount <= self.__balance:\n",
        "            self.__balance -= amount\n",
        "        else:\n",
        "            print(\"Insufficient funds\")\n",
        "\n",
        "    def check_balance(self):\n",
        "        return self.__balance"
      ],
      "metadata": {
        "id": "O6RHIcWpQgBX"
      },
      "execution_count": null,
      "outputs": []
    },
    {
      "cell_type": "code",
      "source": [
        "#6.  Demonstrate runtime polymorphism using a method play() in a base class Instrument. Derive classes Guitar\n",
        "#and Piano that implement their own version of play().\n",
        "\n",
        "class Instrument:\n",
        "    def play(self):\n",
        "        print(\"Playing an instrument\")\n",
        "\n",
        "class Guitar(Instrument):\n",
        "    def play(self):\n",
        "        print(\"Playing a guitar\")\n",
        "\n",
        "class Piano(Instrument):\n",
        "    def play(self):\n",
        "        print(\"Playing a piano\")"
      ],
      "metadata": {
        "id": "yNUNm00qQgI3"
      },
      "execution_count": null,
      "outputs": []
    },
    {
      "cell_type": "code",
      "source": [
        "#7.  Create a class MathOperations with a class method add_numbers() to add two numbers and a static\n",
        "#method subtract_numbers() to subtract two numbers.\n",
        "\n",
        "class MathOperations:\n",
        "    @classmethod\n",
        "    def add_numbers(cls, num1, num2):\n",
        "        return num1 + num2\n",
        "\n",
        "    @staticmethod\n",
        "    def subtract_numbers(num1, num2):\n",
        "        return num1 - num2"
      ],
      "metadata": {
        "id": "b8FRWhCcTrpt"
      },
      "execution_count": null,
      "outputs": []
    },
    {
      "cell_type": "code",
      "source": [
        "#8. . Implement a class Person with a class method to count the total number of persons created.\n",
        "\n",
        "class Person:\n",
        "    total_persons = 0\n",
        "\n",
        "    def __init__(self, name):\n",
        "        self.name = name\n",
        "        Person.total_persons += 1\n",
        "\n",
        "    @classmethod\n",
        "    def get_total_persons(cls):\n",
        "        return cls.total_persons"
      ],
      "metadata": {
        "id": "l0ZItToATrr8"
      },
      "execution_count": null,
      "outputs": []
    },
    {
      "cell_type": "code",
      "source": [
        "#9. Write a class Fraction with attributes numerator and denominator. Override the str method to display the\n",
        "#fraction as \"numerator/denominator\".\n",
        "\n",
        "class Fraction:\n",
        "    def __init__(self, numerator, denominator):\n",
        "        self.numerator = numerator\n",
        "        self.denominator = denominator\n",
        "\n",
        "    def __str__(self):\n",
        "        return f\"{self.numerator}/{self.denominator}\""
      ],
      "metadata": {
        "id": "fSVTVL2YTrw8"
      },
      "execution_count": null,
      "outputs": []
    },
    {
      "cell_type": "code",
      "source": [
        "#10. Demonstrate operator overloading by creating a class Vector and overriding the add method to add two\n",
        "#vectors.\n",
        "\n",
        "class Vector:\n",
        "    def __init__(self, x, y):\n",
        "        self.x = x\n",
        "        self.y = y\n",
        "\n",
        "    def __add__(self, other):\n",
        "        return Vector(self.x + other.x, self.y + other.y)\n"
      ],
      "metadata": {
        "id": "3YmJwHI8TrzK"
      },
      "execution_count": null,
      "outputs": []
    },
    {
      "cell_type": "code",
      "source": [
        "#11. Create a class Person with attributes name and age. Add a method greet() that prints \"Hello, my name is\n",
        "#{name} and I am {age} years old.\"\n",
        "\n",
        "class Person:\n",
        "    def __init__(self, name, age):\n",
        "        self.name = name\n",
        "        self.age = age\n",
        "\n",
        "    def greet(self):\n",
        "        print(f\"Hello, my name is {self.name} and I am {self.age} years old.\")"
      ],
      "metadata": {
        "id": "8K_MyKw2Tr3y"
      },
      "execution_count": null,
      "outputs": []
    },
    {
      "cell_type": "code",
      "source": [
        "#12. Implement a class Student with attributes name and grades. Create a method average_grade() to compute\n",
        "#the average of the grades.\n",
        "\n",
        "class Student:\n",
        "    def __init__(self, name, grades):\n",
        "        self.name = name\n",
        "        self.grades = grades\n",
        "\n",
        "    def average_grade(self):\n",
        "        return sum(self.grades) / len(self.grades)"
      ],
      "metadata": {
        "id": "sPbmgDopTr54"
      },
      "execution_count": null,
      "outputs": []
    },
    {
      "cell_type": "code",
      "source": [
        "#13. Create a class Rectangle with methods set_dimensions() to set the dimensions and area() to calculate the\n",
        "#area.\n",
        "\n",
        "class Rectangle:\n",
        "    def __init__(self):\n",
        "        self.width = 0\n",
        "        self.height = 0\n",
        "\n",
        "    def set_dimensions(self, width, height):\n",
        "        self.width = width\n",
        "        self.height = height\n",
        "\n",
        "    def area(self):\n",
        "        return self.width * self.height\n"
      ],
      "metadata": {
        "id": "s0mzkx_iTr-1"
      },
      "execution_count": null,
      "outputs": []
    },
    {
      "cell_type": "code",
      "source": [
        "#14. Create a class Employee with a method calculate_salary() that computes the salary based on hours worked\n",
        "#and hourly rate. Create a derived class Manager that adds a bonus to the salary.\n",
        "\n",
        "class Employee:\n",
        "    def __init__(self, hours_worked, hourly_rate):\n",
        "        self.hours_worked = hours_worked\n",
        "        self.hourly_rate = hourly_rate\n",
        "\n",
        "    def calculate_salary(self):\n",
        "        return self.hours_worked * self.hourly_rate\n",
        "\n",
        "class Manager(Employee):\n",
        "    def __init__(self, hours_worked, hourly_rate, bonus):\n",
        "        super().__init__(hours_worked, hourly_rate)\n",
        "        self.bonus = bonus\n",
        "\n",
        "    def calculate_salary(self):\n",
        "        return super().calculate_salary() + self.bonus"
      ],
      "metadata": {
        "id": "UCTyrNc4Vmw3"
      },
      "execution_count": null,
      "outputs": []
    },
    {
      "cell_type": "code",
      "source": [
        "#15. Create a class Product with attributes name, price, and quantity. Implement a method total_price() that\n",
        "#calculates the total price of the product.\n",
        "\n",
        "class Product:\n",
        "    def __init__(self, name, price, quantity):\n",
        "        self.name = name\n",
        "        self.price = price\n",
        "        self.quantity = quantity\n",
        "\n",
        "    def total_price(self):\n",
        "        return self.price * self.quantity\n",
        "\n",
        "    def __str__(self):\n",
        "        return f\"{self.name}: {self.quantity} x ${self.price} = ${self.total_price()}\""
      ],
      "metadata": {
        "id": "UqK02koOVmy7"
      },
      "execution_count": null,
      "outputs": []
    },
    {
      "cell_type": "code",
      "source": [
        "#16. Create a class Animal with an abstract method sound(). Create two derived classes Cow and Sheep that\n",
        "#implement the sound() method.\n",
        "\n",
        "from abc import ABC, abstractmethod\n",
        "\n",
        "class Animal(ABC):\n",
        "    @abstractmethod\n",
        "    def sound(self):\n",
        "      pass\n",
        "\n",
        "class Cow(Animal):\n",
        "    def sound(self):\n",
        "        print(\"Cow says moo\")\n",
        "\n",
        "class Sheep(Animal):\n",
        "    def sound(self):\n",
        "        print(\"Sheep says baa\")"
      ],
      "metadata": {
        "id": "Ob3f1LtVVm62"
      },
      "execution_count": null,
      "outputs": []
    },
    {
      "cell_type": "code",
      "source": [
        "#17. Create a class Book with attributes title, author, and year_published. Add a method get_book_info() that\n",
        "#returns a formatted string with the book's details.\n",
        "\n",
        "class Book:\n",
        "    def __init__(self, title, author, year_published):\n",
        "        self.title = title\n",
        "        self.author = author\n",
        "        self.year_published = year_published\n",
        "\n",
        "    def get_book_info(self):\n",
        "        return f\"Title: {self.title}, Author: {self.author}, Year Published: {self.year_published}\""
      ],
      "metadata": {
        "id": "IBfWgodYVm8t"
      },
      "execution_count": null,
      "outputs": []
    },
    {
      "cell_type": "code",
      "source": [
        "#18. Create a class House with attributes address and price. Create a derived class Mansion that adds an\n",
        "#attribute number_of_rooms.\n",
        "\n",
        "class House:\n",
        "    def __init__(self, address, price):\n",
        "        self.address = address\n",
        "        self.price = price\n",
        "\n",
        "    def __str__(self):\n",
        "        return f\"Address: {self.address}, Price: ${self.price}\"\n",
        "\n",
        "class Mansion(House):\n",
        "    def __init__(self, address, price, number_of_rooms):\n",
        "        super().__init__(address, price)\n",
        "        self.number_of_rooms = number_of_rooms\n",
        "\n",
        "    def __str__(self):\n",
        "        return super().__str__() + f\", Number of Rooms: {self.number_of_rooms}\""
      ],
      "metadata": {
        "id": "kl-isNUMVnDK"
      },
      "execution_count": null,
      "outputs": []
    }
  ]
}